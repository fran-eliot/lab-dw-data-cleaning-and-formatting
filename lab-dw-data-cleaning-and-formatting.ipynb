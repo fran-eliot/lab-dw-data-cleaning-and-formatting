{
  "cells": [
    {
      "cell_type": "markdown",
      "id": "25d7736c-ba17-4aff-b6bb-66eba20fbf4e",
      "metadata": {
        "id": "25d7736c-ba17-4aff-b6bb-66eba20fbf4e"
      },
      "source": [
        "# Lab | Data Cleaning and Formatting"
      ]
    },
    {
      "cell_type": "markdown",
      "id": "d1973e9e-8be6-4039-b70e-d73ee0d94c99",
      "metadata": {
        "id": "d1973e9e-8be6-4039-b70e-d73ee0d94c99"
      },
      "source": [
        "In this lab, we will be working with the customer data from an insurance company, which can be found in the CSV file located at the following link: https://raw.githubusercontent.com/data-bootcamp-v4/data/main/file1.csv\n"
      ]
    },
    {
      "cell_type": "markdown",
      "id": "31b8a9e7-7db9-4604-991b-ef6771603e57",
      "metadata": {
        "id": "31b8a9e7-7db9-4604-991b-ef6771603e57"
      },
      "source": [
        "# Challenge 1: Data Cleaning and Formatting"
      ]
    },
    {
      "cell_type": "markdown",
      "id": "81553f19-9f2c-484b-8940-520aff884022",
      "metadata": {
        "id": "81553f19-9f2c-484b-8940-520aff884022"
      },
      "source": [
        "## Exercise 1: Cleaning Column Names"
      ]
    },
    {
      "cell_type": "markdown",
      "id": "34a929f4-1be4-4fa8-adda-42ffd920be90",
      "metadata": {
        "id": "34a929f4-1be4-4fa8-adda-42ffd920be90"
      },
      "source": [
        "To ensure consistency and ease of use, standardize the column names of the dataframe. Start by taking a first look at the dataframe and identifying any column names that need to be modified. Use appropriate naming conventions and make sure that column names are descriptive and informative.\n",
        "\n",
        "*Hint*:\n",
        "- *Column names should be in lower case*\n",
        "- *White spaces in column names should be replaced by `_`*\n",
        "- *`st` could be replaced for `state`*"
      ]
    },
    {
      "cell_type": "code",
      "execution_count": 2,
      "id": "5810735c-8056-4442-bbf2-dda38d3e284a",
      "metadata": {
        "id": "5810735c-8056-4442-bbf2-dda38d3e284a"
      },
      "outputs": [
        {
          "name": "stdout",
          "output_type": "stream",
          "text": [
            "Index(['customer', 'state', 'gender', 'education', 'customer_lifetime_value',\n",
            "       'income', 'monthly_premium_auto', 'number_of_open_complaints',\n",
            "       'policy_type', 'vehicle_class', 'total_claim_amount'],\n",
            "      dtype='object')\n"
          ]
        }
      ],
      "source": [
        "import pandas as pd\n",
        "\n",
        "df = pd.read_csv('https://raw.githubusercontent.com/data-bootcamp-v4/data/main/file1.csv')\n",
        "\n",
        "new_columns = [column.lower().replace(' ','_') for column in df.columns]\n",
        "\n",
        "df.columns = new_columns\n",
        "\n",
        "df.rename(columns={'st':'state'},inplace=True)\n",
        "\n",
        "print(df.columns)"
      ]
    },
    {
      "cell_type": "markdown",
      "id": "9cb501ec-36ff-4589-b872-6252bb150316",
      "metadata": {
        "id": "9cb501ec-36ff-4589-b872-6252bb150316"
      },
      "source": [
        "## Exercise 2: Cleaning invalid Values"
      ]
    },
    {
      "cell_type": "markdown",
      "id": "771fdcf3-8e20-4b06-9c24-3a93ba2b0909",
      "metadata": {
        "id": "771fdcf3-8e20-4b06-9c24-3a93ba2b0909"
      },
      "source": [
        "The dataset contains columns with inconsistent and incorrect values that could affect the accuracy of our analysis. Therefore, we need to clean these columns to ensure that they only contain valid data.\n",
        "\n",
        "Note that this exercise will focus only on cleaning inconsistent values and will not involve handling null values (NaN or None).\n",
        "\n",
        "*Hint*:\n",
        "- *Gender column contains various inconsistent values such as \"F\", \"M\", \"Femal\", \"Male\", \"female\", which need to be standardized, for example, to \"M\" and \"F\".*\n",
        "- *State abbreviations be can replaced with its full name, for example \"AZ\": \"Arizona\", \"Cali\": \"California\", \"WA\": \"Washington\"*\n",
        "- *In education, \"Bachelors\" could be replaced by \"Bachelor\"*\n",
        "- *In Customer Lifetime Value, delete the `%` character*\n",
        "- *In vehicle class, \"Sports Car\", \"Luxury SUV\" and \"Luxury Car\" could be replaced by \"Luxury\"*"
      ]
    },
    {
      "cell_type": "code",
      "execution_count": 3,
      "id": "3f8ee5cb-50ab-48af-8a9f-9a389804033c",
      "metadata": {
        "id": "3f8ee5cb-50ab-48af-8a9f-9a389804033c"
      },
      "outputs": [
        {
          "data": {
            "text/plain": [
              "vehicle_class\n",
              "Four-Door Car    576\n",
              "Two-Door Car     205\n",
              "SUV              199\n",
              "Luxury            91\n",
              "Name: count, dtype: int64"
            ]
          },
          "execution_count": 3,
          "metadata": {},
          "output_type": "execute_result"
        }
      ],
      "source": [
        "df['gender']=df['gender'].str.lower()\n",
        "\n",
        "df['gender'] = df['gender'].replace({\n",
        "    'm': 'M',\n",
        "    'f': 'F',\n",
        "    'femal': 'F',\n",
        "    'male': 'M',\n",
        "    'female': 'F'\n",
        "})\n",
        "\n",
        "df['gender'].value_counts()\n",
        "\n",
        "df['state'] = df['state'].replace({\n",
        "    'AZ': 'Arizona',\n",
        "    'Cali':'California',\n",
        "    'WA':'Washington'\n",
        "})\n",
        "\n",
        "df['state'].value_counts()\n",
        "\n",
        "df['education'] = df['education'].replace({\n",
        "    'Bachelors':'Bachelor'\n",
        "})\n",
        "\n",
        "df['education'].value_counts()\n",
        "\n",
        "# Primero, convertimos todo a string para evitar problemas (ya que hay valores NaN)\n",
        "df['customer_lifetime_value'] = df['customer_lifetime_value'].astype(str)\n",
        "\n",
        "# Luego, eliminanos el símbolo % y convertimos a número, ignorando los 'nan' que se crearon\n",
        "df['customer_lifetime_value'] = df['customer_lifetime_value'].str.replace('%', '', regex=False)\n",
        "\n",
        "df['customer_lifetime_value'].head(10)\n",
        "\n",
        "df['vehicle_class'] = df['vehicle_class'].replace({\n",
        "    'Sports Car': 'Luxury',\n",
        "    'Luxury SUV':'Luxury',\n",
        "    'Luxury Car':'Luxury'\n",
        "})\n",
        "\n",
        "df['vehicle_class'].value_counts()\n"
      ]
    },
    {
      "cell_type": "markdown",
      "id": "85ff78ce-0174-4890-9db3-8048b7d7d2d0",
      "metadata": {
        "id": "85ff78ce-0174-4890-9db3-8048b7d7d2d0"
      },
      "source": [
        "## Exercise 3: Formatting data types"
      ]
    },
    {
      "cell_type": "markdown",
      "id": "b91c2cf8-79a2-4baf-9f65-ff2fb22270bd",
      "metadata": {
        "id": "b91c2cf8-79a2-4baf-9f65-ff2fb22270bd"
      },
      "source": [
        "The data types of many columns in the dataset appear to be incorrect. This could impact the accuracy of our analysis. To ensure accurate analysis, we need to correct the data types of these columns. Please update the data types of the columns as appropriate."
      ]
    },
    {
      "cell_type": "markdown",
      "id": "43e5d853-ff9e-43b2-9d92-aef2f78764f3",
      "metadata": {
        "id": "43e5d853-ff9e-43b2-9d92-aef2f78764f3"
      },
      "source": [
        "It is important to note that this exercise does not involve handling null values (NaN or None)."
      ]
    },
    {
      "cell_type": "markdown",
      "id": "329ca691-9196-4419-8969-3596746237a1",
      "metadata": {
        "id": "329ca691-9196-4419-8969-3596746237a1"
      },
      "source": [
        "*Hint*:\n",
        "- *Customer lifetime value should be numeric*\n",
        "- *Number of open complaints has an incorrect format. Look at the different values it takes with `unique()` and take the middle value. As an example, 1/5/00 should be 5. Number of open complaints is a string - remember you can use `split()` to deal with it and take the number you need. Finally, since it should be numeric, cast the column to be in its proper type.*"
      ]
    },
    {
      "cell_type": "code",
      "execution_count": 4,
      "id": "eb8f5991-73e9-405f-bf1c-6b7c589379a9",
      "metadata": {
        "id": "eb8f5991-73e9-405f-bf1c-6b7c589379a9"
      },
      "outputs": [
        {
          "data": {
            "text/plain": [
              "number_of_open_complaints\n",
              "1.0    968\n",
              "2.0     50\n",
              "3.0     34\n",
              "4.0     13\n",
              "5.0      6\n",
              "Name: count, dtype: int64"
            ]
          },
          "execution_count": 4,
          "metadata": {},
          "output_type": "execute_result"
        }
      ],
      "source": [
        "# Convertimos las cadenas a float, convirtiendo los 'nan' en NaN reales\n",
        "df['customer_lifetime_value'] = pd.to_numeric(df['customer_lifetime_value'], errors='coerce')\n",
        "df['customer_lifetime_value'].dtype\n",
        "\n",
        "def extraer_mayor(valor):\n",
        "    if pd.isna(valor):\n",
        "        return None\n",
        "    numeros = list(map(int, valor.split('/')))\n",
        "    return max(numeros)\n",
        "\n",
        "# Aplicamos extraer_mayor a nuestra columna\n",
        "df['number_of_open_complaints'] = df['number_of_open_complaints'].apply(extraer_mayor)\n",
        "df['number_of_open_complaints'].value_counts()"
      ]
    },
    {
      "cell_type": "markdown",
      "id": "14c52e28-2d0c-4dd2-8bd5-3476e34fadc1",
      "metadata": {
        "id": "14c52e28-2d0c-4dd2-8bd5-3476e34fadc1"
      },
      "source": [
        "## Exercise 4: Dealing with Null values"
      ]
    },
    {
      "cell_type": "markdown",
      "id": "34b9a20f-7d32-4417-975e-1b4dfb0e16cd",
      "metadata": {
        "id": "34b9a20f-7d32-4417-975e-1b4dfb0e16cd"
      },
      "source": [
        "Identify any columns with null or missing values. Identify how many null values each column has. You can use the `isnull()` function in pandas to find columns with null values.\n",
        "\n",
        "Decide on a strategy for handling the null values. There are several options, including:\n",
        "\n",
        "- Drop the rows or columns with null values\n",
        "- Fill the null values with a specific value (such as the column mean or median for numerical variables, and mode for categorical variables)\n",
        "- Fill the null values with the previous or next value in the column\n",
        "- Fill the null values based on a more complex algorithm or model (note: we haven't covered this yet)\n",
        "\n",
        "Implement your chosen strategy to handle the null values. You can use the `fillna()` function in pandas to fill null values or `dropna()` function to drop null values.\n",
        "\n",
        "Verify that your strategy has successfully handled the null values. You can use the `isnull()` function again to check if there are still null values in the dataset.\n",
        "\n",
        "Remember to document your process and explain your reasoning for choosing a particular strategy for handling null values.\n",
        "\n",
        "After formatting data types, as a last step, convert all the numeric variables to integers."
      ]
    },
    {
      "cell_type": "code",
      "execution_count": 5,
      "id": "f184fc35-7831-4836-a0a5-e7f99e01b40e",
      "metadata": {
        "id": "f184fc35-7831-4836-a0a5-e7f99e01b40e"
      },
      "outputs": [
        {
          "data": {
            "text/plain": [
              "customer                     object\n",
              "state                        object\n",
              "gender                       object\n",
              "education                    object\n",
              "customer_lifetime_value       int64\n",
              "income                        int64\n",
              "monthly_premium_auto          int64\n",
              "number_of_open_complaints     int64\n",
              "policy_type                  object\n",
              "vehicle_class                object\n",
              "total_claim_amount            int64\n",
              "dtype: object"
            ]
          },
          "execution_count": 5,
          "metadata": {},
          "output_type": "execute_result"
        }
      ],
      "source": [
        "# Vemos los valores nulos que tienen las columnas\n",
        "df.isnull().sum()\n",
        "\n",
        "# Podemos rellenar los valores con la media u otro valor\n",
        "# df.fillna(df.mean(numeric_only=True))\n",
        "\n",
        "# Quitamos todas las filas con valores nulos\n",
        "df_without_na = df.dropna().copy()\n",
        "\n",
        "#Comprobamos ahora que las columnas no tienen valores nulos\n",
        "df_without_na.isnull().sum()\n",
        "\n",
        "# Seleccionamos las columnas numéricas\n",
        "columnas_numericas = df_without_na.select_dtypes(include=['float', 'int']).columns\n",
        "\n",
        "# Convertimos las columnas numéricas a int\n",
        "df_without_na[columnas_numericas] = df_without_na[columnas_numericas].astype(int)\n",
        "\n",
        "#Comprobamos los tipos de datos del dataframe\n",
        "df_without_na.dtypes"
      ]
    },
    {
      "cell_type": "markdown",
      "id": "98416351-e999-4156-9834-9b00a311adfa",
      "metadata": {
        "id": "98416351-e999-4156-9834-9b00a311adfa"
      },
      "source": [
        "## Exercise 5: Dealing with duplicates"
      ]
    },
    {
      "cell_type": "markdown",
      "id": "ea0816a7-a18e-4d4c-b667-a8452a800bd1",
      "metadata": {
        "id": "ea0816a7-a18e-4d4c-b667-a8452a800bd1"
      },
      "source": [
        "Use the `.duplicated()` method to identify any duplicate rows in the dataframe.\n",
        "\n",
        "Decide on a strategy for handling the duplicates. Options include:\n",
        "- Dropping all duplicate rows\n",
        "- Keeping only the first occurrence of each duplicated row\n",
        "- Keeping only the last occurrence of each duplicated row\n",
        "- Dropping duplicates based on a subset of columns\n",
        "- Dropping duplicates based on a specific column\n",
        "\n",
        "Implement your chosen strategy using the `drop_duplicates()` function.\n",
        "\n",
        "Verify that your strategy has successfully handled the duplicates by checking for duplicates again using `.duplicated()`.\n",
        "\n",
        "Remember to document your process and explain your reasoning for choosing a particular strategy for handling duplicates.\n",
        "\n",
        "Save the cleaned dataset to a new CSV file.\n",
        "\n",
        "*Hint*: *after dropping duplicates, reset the index to ensure consistency*."
      ]
    },
    {
      "cell_type": "code",
      "execution_count": null,
      "id": "1929362c-47ed-47cb-baca-358b78d401a0",
      "metadata": {
        "id": "1929362c-47ed-47cb-baca-358b78d401a0"
      },
      "outputs": [
        {
          "name": "stdout",
          "output_type": "stream",
          "text": [
            "Empty DataFrame\n",
            "Columns: [customer, state, gender, education, customer_lifetime_value, income, monthly_premium_auto, number_of_open_complaints, policy_type, vehicle_class, total_claim_amount]\n",
            "Index: []\n"
          ]
        },
        {
          "data": {
            "text/html": [
              "<div>\n",
              "<style scoped>\n",
              "    .dataframe tbody tr th:only-of-type {\n",
              "        vertical-align: middle;\n",
              "    }\n",
              "\n",
              "    .dataframe tbody tr th {\n",
              "        vertical-align: top;\n",
              "    }\n",
              "\n",
              "    .dataframe thead th {\n",
              "        text-align: right;\n",
              "    }\n",
              "</style>\n",
              "<table border=\"1\" class=\"dataframe\">\n",
              "  <thead>\n",
              "    <tr style=\"text-align: right;\">\n",
              "      <th></th>\n",
              "      <th>customer</th>\n",
              "      <th>state</th>\n",
              "      <th>gender</th>\n",
              "      <th>education</th>\n",
              "      <th>customer_lifetime_value</th>\n",
              "      <th>income</th>\n",
              "      <th>monthly_premium_auto</th>\n",
              "      <th>number_of_open_complaints</th>\n",
              "      <th>policy_type</th>\n",
              "      <th>vehicle_class</th>\n",
              "      <th>total_claim_amount</th>\n",
              "    </tr>\n",
              "  </thead>\n",
              "  <tbody>\n",
              "    <tr>\n",
              "      <th>0</th>\n",
              "      <td>QZ44356</td>\n",
              "      <td>Arizona</td>\n",
              "      <td>F</td>\n",
              "      <td>Bachelor</td>\n",
              "      <td>697953</td>\n",
              "      <td>0</td>\n",
              "      <td>94</td>\n",
              "      <td>1</td>\n",
              "      <td>Personal Auto</td>\n",
              "      <td>Four-Door Car</td>\n",
              "      <td>1131</td>\n",
              "    </tr>\n",
              "    <tr>\n",
              "      <th>1</th>\n",
              "      <td>AI49188</td>\n",
              "      <td>Nevada</td>\n",
              "      <td>F</td>\n",
              "      <td>Bachelor</td>\n",
              "      <td>1288743</td>\n",
              "      <td>48767</td>\n",
              "      <td>108</td>\n",
              "      <td>1</td>\n",
              "      <td>Personal Auto</td>\n",
              "      <td>Two-Door Car</td>\n",
              "      <td>566</td>\n",
              "    </tr>\n",
              "    <tr>\n",
              "      <th>2</th>\n",
              "      <td>WW63253</td>\n",
              "      <td>California</td>\n",
              "      <td>M</td>\n",
              "      <td>Bachelor</td>\n",
              "      <td>764586</td>\n",
              "      <td>0</td>\n",
              "      <td>106</td>\n",
              "      <td>1</td>\n",
              "      <td>Corporate Auto</td>\n",
              "      <td>SUV</td>\n",
              "      <td>529</td>\n",
              "    </tr>\n",
              "    <tr>\n",
              "      <th>3</th>\n",
              "      <td>GA49547</td>\n",
              "      <td>Washington</td>\n",
              "      <td>M</td>\n",
              "      <td>High School or Below</td>\n",
              "      <td>536307</td>\n",
              "      <td>36357</td>\n",
              "      <td>68</td>\n",
              "      <td>1</td>\n",
              "      <td>Personal Auto</td>\n",
              "      <td>Four-Door Car</td>\n",
              "      <td>17</td>\n",
              "    </tr>\n",
              "    <tr>\n",
              "      <th>4</th>\n",
              "      <td>OC83172</td>\n",
              "      <td>Oregon</td>\n",
              "      <td>F</td>\n",
              "      <td>Bachelor</td>\n",
              "      <td>825629</td>\n",
              "      <td>62902</td>\n",
              "      <td>69</td>\n",
              "      <td>1</td>\n",
              "      <td>Personal Auto</td>\n",
              "      <td>Two-Door Car</td>\n",
              "      <td>159</td>\n",
              "    </tr>\n",
              "  </tbody>\n",
              "</table>\n",
              "</div>"
            ],
            "text/plain": [
              "  customer       state gender             education  customer_lifetime_value  \\\n",
              "0  QZ44356     Arizona      F              Bachelor                   697953   \n",
              "1  AI49188      Nevada      F              Bachelor                  1288743   \n",
              "2  WW63253  California      M              Bachelor                   764586   \n",
              "3  GA49547  Washington      M  High School or Below                   536307   \n",
              "4  OC83172      Oregon      F              Bachelor                   825629   \n",
              "\n",
              "   income  monthly_premium_auto  number_of_open_complaints     policy_type  \\\n",
              "0       0                    94                          1   Personal Auto   \n",
              "1   48767                   108                          1   Personal Auto   \n",
              "2       0                   106                          1  Corporate Auto   \n",
              "3   36357                    68                          1   Personal Auto   \n",
              "4   62902                    69                          1   Personal Auto   \n",
              "\n",
              "   vehicle_class  total_claim_amount  \n",
              "0  Four-Door Car                1131  \n",
              "1   Two-Door Car                 566  \n",
              "2            SUV                 529  \n",
              "3  Four-Door Car                  17  \n",
              "4   Two-Door Car                 159  "
            ]
          },
          "execution_count": 13,
          "metadata": {},
          "output_type": "execute_result"
        }
      ],
      "source": [
        "# Vemos las filas de duplicados\n",
        "duplicados = df_without_na[df_without_na.duplicated()]\n",
        "print(duplicados)\n",
        "\n",
        "# Optamos por borrar las filas con duplicados\n",
        "df_sin_duplicados = df_without_na.drop_duplicates()\n",
        "df_sin_duplicados.duplicated()\n",
        "df_sin_duplicados.head()\n",
        "\n",
        "# Grabamos el nuevo DataFrame en un nuevo fichero\n",
        "df_sin_duplicados.to_csv('file2.csv',index=False)\n",
        "\n",
        "# Leemos el nuevo fichero y comprobamos\n",
        "df_nuevo = pd.read_csv('file2.csv')\n",
        "\n",
        "df_nuevo.head()"
      ]
    },
    {
      "cell_type": "markdown",
      "id": "60840701-4783-40e2-b4d8-55303f9100c9",
      "metadata": {
        "id": "60840701-4783-40e2-b4d8-55303f9100c9"
      },
      "source": [
        "# Bonus: Challenge 2: creating functions on a separate `py` file"
      ]
    },
    {
      "cell_type": "markdown",
      "id": "9d1adb3a-17cf-4899-8041-da21a4337fb4",
      "metadata": {
        "id": "9d1adb3a-17cf-4899-8041-da21a4337fb4"
      },
      "source": [
        "Put all the data cleaning and formatting steps into functions, and create a main function that performs all the cleaning and formatting.\n",
        "\n",
        "Write these functions in separate .py file(s). By putting these steps into functions, we can make the code more modular and easier to maintain."
      ]
    },
    {
      "cell_type": "markdown",
      "id": "0e170dc2-b62c-417a-8248-e63ed18a70c4",
      "metadata": {
        "id": "0e170dc2-b62c-417a-8248-e63ed18a70c4"
      },
      "source": [
        "*Hint: autoreload module is a utility module in Python that allows you to automatically reload modules in the current session when changes are made to the source code. This can be useful in situations where you are actively developing code and want to see the effects of changes you make without having to constantly restart the Python interpreter or Jupyter Notebook kernel.*"
      ]
    },
    {
      "cell_type": "code",
      "execution_count": 1,
      "id": "a52c6dfc-cd11-4d01-bda4-f719fa33e9a4",
      "metadata": {
        "id": "a52c6dfc-cd11-4d01-bda4-f719fa33e9a4"
      },
      "outputs": [],
      "source": [
        "# def cleaning_columns_names(df):\n",
        "#     \"\"\"\n",
        "#     Limpia y estandariza los nombres de las columnas de un DataFrame.\n",
        "\n",
        "#     Operaciones realizadas:\n",
        "#     ------------------------\n",
        "#     1. Convierte todos los nombres de las columnas a minúsculas.\n",
        "#     2. Reemplaza los espacios en los nombres de columnas por guiones bajos ('_').\n",
        "#     3. Renombra específicamente la columna 'st' para que pase a llamarse 'state'.\n",
        "#     4. Actualiza el DataFrame con los nuevos nombres de columnas.\n",
        "\n",
        "#     Parámetros:\n",
        "#     ------------\n",
        "#     df : pandas.DataFrame\n",
        "#         El DataFrame cuyos nombres de columnas serán limpiados y estandarizados.\n",
        "\n",
        "#     Retorna:\n",
        "#     --------\n",
        "#     pandas.DataFrame\n",
        "#         El mismo DataFrame de entrada pero con los nombres de las columnas modificados.\n",
        "\n",
        "#     \"\"\"\n",
        "#     # Ponemos los nombres de columnas en minúsculas y reemplazamos espacios por guiones\n",
        "#     new_columns = [column.lower().replace(' ','_') for column in df.columns]\n",
        "\n",
        "#     df.columns = new_columns\n",
        "\n",
        "#     # Renombrarmos la columna 'st' como 'state'\n",
        "#     df.rename(columns={'st':'state'},inplace=True)\n",
        "\n",
        "#     return df\n",
        "\n",
        "# def cleaning_invalid_values(df):\n",
        "#     \"\"\"\n",
        "#     Limpia y normaliza valores inconsistentes en varias columnas de un DataFrame.\n",
        "\n",
        "#     Operaciones realizadas:\n",
        "#     ------------------------\n",
        "#     1. Convierte todos los valores de la columna 'gender' a minúsculas.\n",
        "#     2. Normaliza los valores de 'gender' para que sólo existan 'M' (masculino) y 'F' (femenino).\n",
        "#     3. Reemplaza abreviaturas de estados ('AZ', 'Cali', 'WA') por sus nombres completos ('Arizona', 'California', 'Washington').\n",
        "#     4. Corrige el valor 'Bachelors' en la columna 'education' para uniformizarlo como 'Bachelor'.\n",
        "#     5. Elimina el símbolo '%' en los valores de la columna 'customer_lifetime_value' y los deja en formato numérico como texto (sin convertir todavía a float).\n",
        "#     6. Agrupa las categorías de vehículos de alta gama ('Sports Car', 'Luxury SUV', 'Luxury Car') en una única categoría: 'Luxury'.\n",
        "\n",
        "#     Parámetros:\n",
        "#     ------------\n",
        "#     df : pandas.DataFrame\n",
        "#         El DataFrame que contiene los datos a limpiar y normalizar.\n",
        "\n",
        "#     Retorna:\n",
        "#     --------\n",
        "#     pandas.DataFrame\n",
        "#         El mismo DataFrame, pero con los valores corregidos y estandarizados.\n",
        "\n",
        "#     \"\"\"\n",
        "#     # Pasamos a minusculas todos los valores de la columna 'gender'\n",
        "#     df['gender']=df['gender'].str.lower()\n",
        "\n",
        "#     # Normalizamos los valores para tener sólo 'M' y 'F'\n",
        "#     df['gender'] = df['gender'].replace({\n",
        "#         'm': 'M',\n",
        "#         'f': 'F',\n",
        "#         'femal': 'F',\n",
        "#         'male': 'M',\n",
        "#         'female': 'F'\n",
        "#     })\n",
        "\n",
        "#     # Reemplazmos los valores de estados como AZ, Cali y WA por sus valores completos\n",
        "#     df['state'] = df['state'].replace({\n",
        "#         'AZ': 'Arizona',\n",
        "#         'Cali':'California',\n",
        "#         'WA':'Washington'\n",
        "#     })\n",
        "\n",
        "#     # En la columna de 'Education', reemplazamos 'Bachelors' por 'Bacherlor'\n",
        "#     df['education'] = df['education'].replace({\n",
        "#         'Bachelors':'Bachelor'\n",
        "#     })\n",
        "\n",
        "#     # Transformamos los valores de la columna 'customer_lifetime_value' para eliminar el carácter '%'\n",
        "#     # Primero, convertimos todo a string para evitar problemas (ya que hay valores NaN)\n",
        "#     df['customer_lifetime_value'] = df['customer_lifetime_value'].astype(str)\n",
        "\n",
        "#     # Luego, eliminanos el símbolo % y convertimos a número, ignorando los 'nan' que se crearon\n",
        "#     df['customer_lifetime_value'] = df['customer_lifetime_value'].str.replace('%', '', regex=False)\n",
        "\n",
        "#     # Trasnsformamos los valores de la columna 'vehicle_class' para agrupar a todos los coches de alta gama como 'Luxury'\n",
        "#     df['vehicle_class'] = df['vehicle_class'].replace({\n",
        "#         'Sports Car': 'Luxury',\n",
        "#         'Luxury SUV':'Luxury',\n",
        "#         'Luxury Car':'Luxury'\n",
        "#     })\n",
        "\n",
        "#     return df\n",
        "\n",
        "# def extraer_mayor(valor):\n",
        "#     \"\"\"\n",
        "#     Extrae el mayor número de una cadena de números separados por '/'.\n",
        "\n",
        "#     Parámetros:\n",
        "#     -----------\n",
        "#     valor : str o None\n",
        "#         Cadena de texto con números enteros separados por barras (\"/\"), \n",
        "#         o un valor nulo (NaN).\n",
        "\n",
        "#     Retorna:\n",
        "#     --------\n",
        "#     int o None\n",
        "#         El número entero más grande encontrado en la cadena.\n",
        "#         Si el valor es NaN, devuelve None.\n",
        "\n",
        "#     Ejemplos:\n",
        "#     ---------\n",
        "#     >>> extraer_mayor(\"1/3/5\")\n",
        "#     5\n",
        "\n",
        "#     >>> extraer_mayor(\"2/2/2\")\n",
        "#     2\n",
        "\n",
        "#     >>> extraer_mayor(None)\n",
        "#     None\n",
        "#     \"\"\"\n",
        "#     if pd.isna(valor):\n",
        "#         return None\n",
        "#     numeros = list(map(int, valor.split('/')))\n",
        "#     return max(numeros)\n",
        "\n",
        "# def formatting_data_types(df):\n",
        "#     \"\"\"\n",
        "#     Formatea y corrige tipos de datos específicos en un DataFrame.\n",
        "\n",
        "#     Operaciones realizadas:\n",
        "#     ------------------------\n",
        "#     1. Convierte los valores de la columna 'customer_lifetime_value' de texto (que pueden incluir errores o valores no numéricos) a valores numéricos tipo float.\n",
        "#        - Los valores que no se puedan convertir se transformarán en NaN (Not a Number).\n",
        "\n",
        "#     2. Aplica la función `extraer_mayor` sobre la columna 'number_of_open_complaints', \n",
        "#        que transforma cadenas de números separados por '/' en el número mayor de la secuencia.\n",
        "    \n",
        "#     3. Devuelve el DataFrame modificado.\n",
        "\n",
        "#     Parámetros:\n",
        "#     ------------\n",
        "#     df : pandas.DataFrame\n",
        "#         El DataFrame que contiene las columnas 'customer_lifetime_value' y 'number_of_open_complaints' a formatear.\n",
        "\n",
        "#     Retorna:\n",
        "#     --------\n",
        "#     pandas.DataFrame\n",
        "#         El mismo DataFrame de entrada pero con los tipos de datos corregidos en las columnas mencionadas.\n",
        "\n",
        "#     \"\"\"\n",
        "#     # Convertimos las cadenas de la columna 'customer_lifetime_value' a float, convirtiendo los 'nan' en NaN reales\n",
        "#     df['customer_lifetime_value'] = pd.to_numeric(df['customer_lifetime_value'], errors='coerce')\n",
        "   \n",
        "#     # Aplicamos extraer_mayor a la columna 'number_of_open_complaints'\n",
        "#     df['number_of_open_complaints'] = df['number_of_open_complaints'].apply(extraer_mayor)\n",
        "   \n",
        "#     return df \n",
        "\n",
        "# def dealing_with_null_values(df):\n",
        "#     \"\"\"\n",
        "#     Elimina los valores nulos del DataFrame y convierte las columnas numéricas a tipo entero.\n",
        "\n",
        "#     Pasos:\n",
        "#     1. Elimina todas las filas que contienen valores nulos en cualquier columna.\n",
        "#     2. Realiza una copia explícita del DataFrame resultante para evitar el warning SettingWithCopyWarning.\n",
        "#     3. Identifica todas las columnas de tipo numérico (float o int).\n",
        "#     4. Convierte las columnas numéricas a tipo entero (int), eliminando así posibles decimales residuales.\n",
        "\n",
        "#     Parámetros:\n",
        "#     ----------\n",
        "#     df : pandas.DataFrame\n",
        "#         El DataFrame original que puede contener valores nulos y columnas numéricas flotantes.\n",
        "\n",
        "#     Retorna:\n",
        "#     -------\n",
        "#     pandas.DataFrame\n",
        "#         Un nuevo DataFrame sin valores nulos y con las columnas numéricas convertidas a enteros.\n",
        "#     \"\"\"\n",
        "\n",
        "#     # Quitamos todas las filas con valores nulos\n",
        "#     df = df.dropna().copy()\n",
        "\n",
        "#     # Seleccionamos las columnas numéricas\n",
        "#     columnas_numericas = df.select_dtypes(include=['float', 'int']).columns\n",
        "\n",
        "#     # Convertimos las columnas numéricas a int\n",
        "#     df[columnas_numericas] = df[columnas_numericas].astype(int)\n",
        "\n",
        "#     return df\n",
        "\n",
        "# def dealing_with_duplicates(df):\n",
        "#     \"\"\"\n",
        "#     Elimina las filas duplicadas de un DataFrame.\n",
        "\n",
        "#     Pasos:\n",
        "#     1. Identifica las filas duplicadas en el DataFrame.\n",
        "#     2. Elimina las filas duplicadas, conservando únicamente la primera aparición de cada registro único.\n",
        "#     3. Devuelve un nuevo DataFrame limpio, sin duplicados.\n",
        "\n",
        "#     Parámetros:\n",
        "#     ----------\n",
        "#     df : pandas.DataFrame\n",
        "#         El DataFrame original que puede contener filas duplicadas.\n",
        "\n",
        "#     Retorna:\n",
        "#     -------\n",
        "#     pandas.DataFrame\n",
        "#         Un nuevo DataFrame en el que se han eliminado todas las filas duplicadas.\n",
        "#     \"\"\"\n",
        "    \n",
        "#     # Optamos por borrar las filas con duplicados conservando la primera aparición\n",
        "#     df_sin_duplicados = df.drop_duplicates()\n",
        "\n",
        "#     return df_sin_duplicados\n",
        "\n",
        "# def save_dataframe(df,file_url):\n",
        "#     \"\"\"\n",
        "#     Guarda un DataFrame en un archivo CSV.\n",
        "\n",
        "#     Pasos:\n",
        "#     1. Convierte el DataFrame en un archivo CSV.\n",
        "#     2. Guarda el archivo en la ubicación especificada, sin incluir los índices de las filas.\n",
        "\n",
        "#     Parámetros:\n",
        "#     ----------\n",
        "#     df : pandas.DataFrame\n",
        "#         El DataFrame que se desea guardar en un archivo.\n",
        "    \n",
        "#     file_url : str\n",
        "#         Ruta y nombre del archivo donde se guardará el DataFrame en formato CSV.\n",
        "\n",
        "#     Retorna:\n",
        "#     -------\n",
        "#     None\n",
        "#         Esta función no retorna ningún valor. Solo guarda el archivo en la ubicación indicada.\n",
        "#     \"\"\"\n",
        "    \n",
        "#     # Grabamos el nuevo DataFrame en un nuevo fichero\n",
        "#     df.to_csv(file_url,index=False)\n",
        "\n",
        "\n",
        "\n",
        "import pandas as pd\n",
        "from functions_cleanning import *\n",
        "\n",
        "df = (\n",
        "    pd.read_csv('https://raw.githubusercontent.com/data-bootcamp-v4/data/main/file1.csv')\n",
        "    .pipe(cleaning_columns_names)\n",
        "    .pipe(cleaning_invalid_values)\n",
        "    .pipe(formatting_data_types)\n",
        "    .pipe(dealing_with_null_values)\n",
        "    .pipe(dealing_with_duplicates)\n",
        ")\n",
        "\n",
        "save_dataframe(df, 'file3.csv')\n"
      ]
    },
    {
      "cell_type": "markdown",
      "id": "80f846bb-3f5e-4ca2-96c0-900728daca5a",
      "metadata": {
        "id": "80f846bb-3f5e-4ca2-96c0-900728daca5a",
        "tags": []
      },
      "source": [
        "# Bonus: Challenge 3: Analyzing Clean and Formated Data"
      ]
    },
    {
      "cell_type": "markdown",
      "id": "9021630e-cc90-446c-b5bd-264d6c864207",
      "metadata": {
        "id": "9021630e-cc90-446c-b5bd-264d6c864207"
      },
      "source": [
        "You have been tasked with analyzing the data to identify potential areas for improving customer retention and profitability. Your goal is to identify customers with a high policy claim amount and a low customer lifetime value.\n",
        "\n",
        "In the Pandas Lab, we only looked at high policy claim amounts because we couldn't look into low customer lifetime values. If we had tried to work with that column, we wouldn't have been able to because customer lifetime value wasn't clean and in its proper format. So after cleaning and formatting the data, let's get some more interesting insights!\n",
        "\n",
        "Instructions:\n",
        "\n",
        "- Review the statistics again for total claim amount and customer lifetime value to gain an understanding of the data.\n",
        "- To identify potential areas for improving customer retention and profitability, we want to focus on customers with a high policy claim amount and a low customer lifetime value. Consider customers with a high policy claim amount to be those in the top 25% of the total claim amount, and clients with a low customer lifetime value to be those in the bottom 25% of the customer lifetime value. Create a pandas DataFrame object that contains information about customers with a policy claim amount greater than the 75th percentile and a customer lifetime value in the bottom 25th percentile.\n",
        "- Use DataFrame methods to calculate summary statistics about the high policy claim amount and low customer lifetime value data. To do so, select both columns of the dataframe simultaneously and pass it to the `.describe()` method. This will give you descriptive statistics, such as mean, median, standard deviation, minimum and maximum values for both columns at the same time, allowing you to compare and analyze their characteristics."
      ]
    },
    {
      "cell_type": "code",
      "execution_count": 11,
      "id": "211e82b5-461a-4d6f-8a23-4deccb84173c",
      "metadata": {
        "id": "211e82b5-461a-4d6f-8a23-4deccb84173c"
      },
      "outputs": [
        {
          "data": {
            "text/html": [
              "<div>\n",
              "<style scoped>\n",
              "    .dataframe tbody tr th:only-of-type {\n",
              "        vertical-align: middle;\n",
              "    }\n",
              "\n",
              "    .dataframe tbody tr th {\n",
              "        vertical-align: top;\n",
              "    }\n",
              "\n",
              "    .dataframe thead th {\n",
              "        text-align: right;\n",
              "    }\n",
              "</style>\n",
              "<table border=\"1\" class=\"dataframe\">\n",
              "  <thead>\n",
              "    <tr style=\"text-align: right;\">\n",
              "      <th></th>\n",
              "      <th>total_claim_amount</th>\n",
              "      <th>customer_lifetime_value</th>\n",
              "    </tr>\n",
              "  </thead>\n",
              "  <tbody>\n",
              "    <tr>\n",
              "      <th>count</th>\n",
              "      <td>35.000000</td>\n",
              "      <td>35.000000</td>\n",
              "    </tr>\n",
              "    <tr>\n",
              "      <th>mean</th>\n",
              "      <td>711.571429</td>\n",
              "      <td>343009.085714</td>\n",
              "    </tr>\n",
              "    <tr>\n",
              "      <th>std</th>\n",
              "      <td>145.349333</td>\n",
              "      <td>57540.930008</td>\n",
              "    </tr>\n",
              "    <tr>\n",
              "      <th>min</th>\n",
              "      <td>537.000000</td>\n",
              "      <td>228759.000000</td>\n",
              "    </tr>\n",
              "    <tr>\n",
              "      <th>25%</th>\n",
              "      <td>631.500000</td>\n",
              "      <td>299913.000000</td>\n",
              "    </tr>\n",
              "    <tr>\n",
              "      <th>50%</th>\n",
              "      <td>679.000000</td>\n",
              "      <td>366737.000000</td>\n",
              "    </tr>\n",
              "    <tr>\n",
              "      <th>75%</th>\n",
              "      <td>757.000000</td>\n",
              "      <td>386920.500000</td>\n",
              "    </tr>\n",
              "    <tr>\n",
              "      <th>max</th>\n",
              "      <td>1185.000000</td>\n",
              "      <td>407913.000000</td>\n",
              "    </tr>\n",
              "  </tbody>\n",
              "</table>\n",
              "</div>"
            ],
            "text/plain": [
              "       total_claim_amount  customer_lifetime_value\n",
              "count           35.000000                35.000000\n",
              "mean           711.571429            343009.085714\n",
              "std            145.349333             57540.930008\n",
              "min            537.000000            228759.000000\n",
              "25%            631.500000            299913.000000\n",
              "50%            679.000000            366737.000000\n",
              "75%            757.000000            386920.500000\n",
              "max           1185.000000            407913.000000"
            ]
          },
          "execution_count": 11,
          "metadata": {},
          "output_type": "execute_result"
        }
      ],
      "source": [
        "# Revisamos las estadísticas de las columnas 'total_claim_amount' y 'customer_lifetime_value'\n",
        "df[['total_claim_amount', 'customer_lifetime_value']].describe()\n",
        "\n",
        "# Averiguamos los clientes con alta cantidad de reclamaciones (están en el 25% superior)\n",
        "percentil_75 = df['total_claim_amount'].quantile(0.75)\n",
        "\n",
        "clientes_top_reclamacion = df[df['total_claim_amount']>percentil_75]\n",
        "\n",
        "# Averiguamos los clientes con menor valor de tiempo de vida\n",
        "percentil_25 = df['customer_lifetime_value'].quantile(0.25)\n",
        "\n",
        "clientes_menor_valor = df[df['customer_lifetime_value']<percentil_25]\n",
        "\n",
        "# Por tanto los peores clientes serán los de mayor cantidad de reclamaciones y menor valor en tiempo de vida\n",
        "peores_clientes = df[(df['total_claim_amount']>percentil_75) & (df['customer_lifetime_value']<percentil_25) ]\n",
        "\n",
        "# Calculamos las estadisticas de esos clientes en las columnas 'total_claim_amount' y 'customer_lifetime_value'\n",
        "peores_clientes[['total_claim_amount', 'customer_lifetime_value']].describe()\n",
        "\n"
      ]
    }
  ],
  "metadata": {
    "colab": {
      "provenance": []
    },
    "kernelspec": {
      "display_name": "venv",
      "language": "python",
      "name": "python3"
    },
    "language_info": {
      "codemirror_mode": {
        "name": "ipython",
        "version": 3
      },
      "file_extension": ".py",
      "mimetype": "text/x-python",
      "name": "python",
      "nbconvert_exporter": "python",
      "pygments_lexer": "ipython3",
      "version": "3.12.2"
    }
  },
  "nbformat": 4,
  "nbformat_minor": 5
}
